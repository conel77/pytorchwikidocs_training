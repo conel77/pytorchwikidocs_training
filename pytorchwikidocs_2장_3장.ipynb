{
  "cells": [
    {
      "cell_type": "markdown",
      "metadata": {
        "id": "view-in-github",
        "colab_type": "text"
      },
      "source": [
        "<a href=\"https://colab.research.google.com/github/conel77/pytorchwikidocs_training/blob/main/pytorchwikidocs_2%EC%9E%A5_3%EC%9E%A5.ipynb\" target=\"_parent\"><img src=\"https://colab.research.google.com/assets/colab-badge.svg\" alt=\"Open In Colab\"/></a>"
      ]
    },
    {
      "cell_type": "markdown",
      "source": [
        "넘파이로 텐서 만들기(벡터와 행렬 만들기)"
      ],
      "metadata": {
        "id": "YWENvW16Ss9D"
      },
      "id": "YWENvW16Ss9D"
    },
    {
      "cell_type": "code",
      "execution_count": null,
      "id": "b240b6ed",
      "metadata": {
        "id": "b240b6ed"
      },
      "outputs": [],
      "source": [
        "import torch"
      ]
    },
    {
      "cell_type": "code",
      "execution_count": null,
      "id": "8ab0e856",
      "metadata": {
        "colab": {
          "base_uri": "https://localhost:8080/"
        },
        "id": "8ab0e856",
        "outputId": "a5e68236-3195-4817-943b-1de577e00c02"
      },
      "outputs": [
        {
          "output_type": "stream",
          "name": "stdout",
          "text": [
            "1.13.0+cu116\n"
          ]
        }
      ],
      "source": [
        "print(torch.__version__)"
      ]
    },
    {
      "cell_type": "code",
      "execution_count": null,
      "id": "bfd7cc4b",
      "metadata": {
        "id": "bfd7cc4b"
      },
      "outputs": [],
      "source": [
        "import numpy as np"
      ]
    },
    {
      "cell_type": "code",
      "execution_count": null,
      "id": "6cb338ab",
      "metadata": {
        "id": "6cb338ab"
      },
      "outputs": [],
      "source": [
        "t = np.array([0., 1., 2., 3., 4., 5., 6.])\n",
        "#numpyfh 1차원 텐서인 벡터를 만들어보기"
      ]
    },
    {
      "cell_type": "code",
      "execution_count": null,
      "id": "567d35e2",
      "metadata": {
        "colab": {
          "base_uri": "https://localhost:8080/"
        },
        "id": "567d35e2",
        "outputId": "138271d3-c894-41e8-df0d-3ae38d10b5a2"
      },
      "outputs": [
        {
          "output_type": "stream",
          "name": "stdout",
          "text": [
            "[0. 1. 2. 3. 4. 5. 6.]\n"
          ]
        }
      ],
      "source": [
        "print(t)"
      ]
    },
    {
      "cell_type": "code",
      "execution_count": null,
      "id": "30d2303d",
      "metadata": {
        "colab": {
          "base_uri": "https://localhost:8080/"
        },
        "id": "30d2303d",
        "outputId": "a04e436e-2b18-4128-c9dc-680a02c2b4fe"
      },
      "outputs": [
        {
          "output_type": "stream",
          "name": "stdout",
          "text": [
            "Rank of t:  1\n",
            "Shape of t:  (7,)\n"
          ]
        }
      ],
      "source": [
        "print('Rank of t: ', t.ndim)\n",
        "print('Shape of t: ', t.shape)"
      ]
    },
    {
      "cell_type": "code",
      "execution_count": null,
      "id": "fdf86bbc",
      "metadata": {
        "colab": {
          "base_uri": "https://localhost:8080/"
        },
        "id": "fdf86bbc",
        "outputId": "14947f23-ea8c-472c-d846-832e9d645689"
      },
      "outputs": [
        {
          "output_type": "stream",
          "name": "stdout",
          "text": [
            "t[0] t[1] t[-1] =  0.0 1.0 6.0\n"
          ]
        }
      ],
      "source": [
        "print('t[0] t[1] t[-1] = ', t[0], t[1], t[-1])\n",
        "#인덱스를 통해서 각 벡터의 원소에 접근하기"
      ]
    },
    {
      "cell_type": "code",
      "execution_count": null,
      "id": "6f07782c",
      "metadata": {
        "colab": {
          "base_uri": "https://localhost:8080/"
        },
        "id": "6f07782c",
        "outputId": "a56ea78b-24e1-479c-fb9a-34bc510637e5"
      },
      "outputs": [
        {
          "output_type": "stream",
          "name": "stdout",
          "text": [
            "t[2:5] t[4:-1] =  [2. 3. 4.] [4. 5.]\n"
          ]
        }
      ],
      "source": [
        "print('t[2:5] t[4:-1] = ', t[2:5], t[4:-1])"
      ]
    },
    {
      "cell_type": "code",
      "execution_count": null,
      "id": "1a74973b",
      "metadata": {
        "colab": {
          "base_uri": "https://localhost:8080/"
        },
        "id": "1a74973b",
        "outputId": "403e1ed2-5541-4f10-d5ab-8ee8acd2eae3"
      },
      "outputs": [
        {
          "output_type": "stream",
          "name": "stdout",
          "text": [
            "t[:2] t[3:] = [0. 1.] [3. 4. 5. 6.]\n"
          ]
        }
      ],
      "source": [
        "print('t[:2] t[3:] =', t[:2], t[3:])"
      ]
    },
    {
      "cell_type": "code",
      "execution_count": null,
      "id": "ee7c7a71",
      "metadata": {
        "colab": {
          "base_uri": "https://localhost:8080/"
        },
        "id": "ee7c7a71",
        "outputId": "3c4e4632-c2a5-4ea0-f8f9-17608a1b7ca9"
      },
      "outputs": [
        {
          "output_type": "stream",
          "name": "stdout",
          "text": [
            "[[ 1.  2.  3.]\n",
            " [ 4.  5.  6.]\n",
            " [ 7.  8.  9.]\n",
            " [10. 11. 12.]]\n"
          ]
        }
      ],
      "source": [
        "t = np.array([[1., 2., 3.], [4., 5., 6.], [7., 8., 9.], [10., 11., 12.]])\n",
        "print(t)\n",
        "#numpy로 2차원 행렬 만들기"
      ]
    },
    {
      "cell_type": "code",
      "execution_count": null,
      "id": "79e8de2b",
      "metadata": {
        "colab": {
          "base_uri": "https://localhost:8080/"
        },
        "id": "79e8de2b",
        "outputId": "7d2a842e-2129-475f-cf49-0753dfcc4a06"
      },
      "outputs": [
        {
          "output_type": "stream",
          "name": "stdout",
          "text": [
            "Rank of t:  2\n",
            "Shape of t:  (4, 3)\n"
          ]
        }
      ],
      "source": [
        "print('Rank of t: ', t.ndim)\n",
        "print('Shape of t: ', t.shape)"
      ]
    },
    {
      "cell_type": "markdown",
      "id": "26c184e0",
      "metadata": {
        "id": "26c184e0"
      },
      "source": [
        "파이토치 텐서 선언하기"
      ]
    },
    {
      "cell_type": "code",
      "execution_count": null,
      "id": "4f8828d4",
      "metadata": {
        "colab": {
          "base_uri": "https://localhost:8080/"
        },
        "id": "4f8828d4",
        "outputId": "00cf186c-eb0f-4f18-999e-9429f96f9d9f"
      },
      "outputs": [
        {
          "output_type": "stream",
          "name": "stdout",
          "text": [
            "tensor([0., 1., 2., 3., 4., 5., 6.])\n"
          ]
        }
      ],
      "source": [
        "t = torch.FloatTensor([0., 1., 2., 3., 4., 5., 6.])\n",
        "print(t) #1차원 텐서"
      ]
    },
    {
      "cell_type": "code",
      "execution_count": null,
      "id": "be39988d",
      "metadata": {
        "colab": {
          "base_uri": "https://localhost:8080/"
        },
        "id": "be39988d",
        "outputId": "ace4ce03-d4fb-4a4d-a6f6-65b54cb3cdea"
      },
      "outputs": [
        {
          "output_type": "stream",
          "name": "stdout",
          "text": [
            "1\n",
            "torch.Size([7])\n",
            "torch.Size([7])\n"
          ]
        }
      ],
      "source": [
        "print(t.dim())\n",
        "print(t.shape)\n",
        "print(t.size())"
      ]
    },
    {
      "cell_type": "code",
      "execution_count": null,
      "id": "01fd6fb4",
      "metadata": {
        "colab": {
          "base_uri": "https://localhost:8080/"
        },
        "id": "01fd6fb4",
        "outputId": "df93f216-2e5c-40a1-e9ad-6d5d0632a903"
      },
      "outputs": [
        {
          "output_type": "stream",
          "name": "stdout",
          "text": [
            "tensor(0.) tensor(1.) tensor(6.)\n",
            "tensor([2., 3., 4.]) tensor([4., 5.])\n",
            "tensor([0., 1.]) tensor([3., 4., 5., 6.])\n"
          ]
        }
      ],
      "source": [
        "print(t[0], t[1], t[-1])\n",
        "print(t[2:5], t[4:-1])\n",
        "print(t[:2], t[3:])"
      ]
    },
    {
      "cell_type": "code",
      "execution_count": null,
      "id": "c121c250",
      "metadata": {
        "colab": {
          "base_uri": "https://localhost:8080/"
        },
        "id": "c121c250",
        "outputId": "02c92561-01fe-458b-fe9c-16a1ab3b122b"
      },
      "outputs": [
        {
          "output_type": "stream",
          "name": "stdout",
          "text": [
            "tensor([[ 1.,  2.,  3.],\n",
            "        [ 4.,  5.,  6.],\n",
            "        [ 7.,  8.,  9.],\n",
            "        [10., 11., 12.]])\n"
          ]
        }
      ],
      "source": [
        "t = torch.FloatTensor([[1., 2., 3.], [4., 5., 6.], [7., 8., 9.], [10., 11., 12.]])\n",
        "print(t)\n",
        "#2차원 텐서 만들기"
      ]
    },
    {
      "cell_type": "code",
      "execution_count": null,
      "id": "8babcbb8",
      "metadata": {
        "colab": {
          "base_uri": "https://localhost:8080/"
        },
        "id": "8babcbb8",
        "outputId": "efd370e3-e827-4758-d551-3218eb46ae70"
      },
      "outputs": [
        {
          "output_type": "stream",
          "name": "stdout",
          "text": [
            "2\n",
            "torch.Size([4, 3])\n"
          ]
        }
      ],
      "source": [
        "print(t.dim())\n",
        "print(t.size())"
      ]
    },
    {
      "cell_type": "code",
      "execution_count": null,
      "id": "cb091f68",
      "metadata": {
        "colab": {
          "base_uri": "https://localhost:8080/"
        },
        "id": "cb091f68",
        "outputId": "158b725e-03b9-451b-e698-dddec22ae15c"
      },
      "outputs": [
        {
          "output_type": "stream",
          "name": "stdout",
          "text": [
            "tensor([ 2.,  5.,  8., 11.])\n",
            "torch.Size([4])\n"
          ]
        }
      ],
      "source": [
        "print(t[:, 1])\n",
        "print(t[:, 1].size())"
      ]
    },
    {
      "cell_type": "code",
      "execution_count": null,
      "id": "a63ae5ae",
      "metadata": {
        "colab": {
          "base_uri": "https://localhost:8080/"
        },
        "id": "a63ae5ae",
        "outputId": "2234428c-9491-47dc-ee06-dd515077c394"
      },
      "outputs": [
        {
          "output_type": "stream",
          "name": "stdout",
          "text": [
            "tensor([[ 1.,  2.],\n",
            "        [ 4.,  5.],\n",
            "        [ 7.,  8.],\n",
            "        [10., 11.]])\n"
          ]
        }
      ],
      "source": [
        "print(t[:, :-1])"
      ]
    },
    {
      "cell_type": "markdown",
      "id": "e3d34e8b",
      "metadata": {
        "id": "e3d34e8b"
      },
      "source": [
        "브로드캐스팅(Broadcasting)\n",
        "파이토치에서 자동으로 크기를 맞춰서 연산을 수행하게 만드는 기능"
      ]
    },
    {
      "cell_type": "code",
      "execution_count": null,
      "id": "51988e82",
      "metadata": {
        "colab": {
          "base_uri": "https://localhost:8080/"
        },
        "id": "51988e82",
        "outputId": "8d69721a-8660-4ba6-8d98-fbd9dbcb2a67"
      },
      "outputs": [
        {
          "output_type": "stream",
          "name": "stdout",
          "text": [
            "tensor([[5., 5.]])\n"
          ]
        }
      ],
      "source": [
        "m1 = torch.FloatTensor([[3, 3]])\n",
        "m2 = torch.FloatTensor([[2, 2]])\n",
        "print(m1 + m2)"
      ]
    },
    {
      "cell_type": "code",
      "execution_count": null,
      "id": "bb95fa30",
      "metadata": {
        "colab": {
          "base_uri": "https://localhost:8080/"
        },
        "id": "bb95fa30",
        "outputId": "a41e4a05-996d-456f-fe81-5a7600780aa7"
      },
      "outputs": [
        {
          "output_type": "stream",
          "name": "stdout",
          "text": [
            "tensor([[4., 5.]])\n"
          ]
        }
      ],
      "source": [
        "m1 = torch.FloatTensor([[1, 2]])\n",
        "m2 = torch.FloatTensor([3])\n",
        "print(m1 + m2)"
      ]
    },
    {
      "cell_type": "code",
      "execution_count": null,
      "id": "03febe68",
      "metadata": {
        "colab": {
          "base_uri": "https://localhost:8080/"
        },
        "id": "03febe68",
        "outputId": "21e4012b-586b-4e8c-8f76-31940c43fb0a"
      },
      "outputs": [
        {
          "output_type": "stream",
          "name": "stdout",
          "text": [
            "tensor([[4., 5.],\n",
            "        [5., 6.]])\n"
          ]
        }
      ],
      "source": [
        "m1 = torch.FloatTensor([[1, 2]])\n",
        "m2 = torch.FloatTensor([[3], [4]])\n",
        "print(m1 + m2)\n",
        "#브로드캐스팅이 적용되는 경우"
      ]
    },
    {
      "cell_type": "markdown",
      "id": "3d958cbb",
      "metadata": {
        "id": "3d958cbb"
      },
      "source": [
        "자주 사용되는 기능들"
      ]
    },
    {
      "cell_type": "markdown",
      "id": "98fa03fe",
      "metadata": {
        "id": "98fa03fe"
      },
      "source": [
        "1) 행렬 곱셈과 곱셈의 차이(Matrix Multiplication Vs. Multiplication)"
      ]
    },
    {
      "cell_type": "code",
      "execution_count": null,
      "id": "f4a73dd4",
      "metadata": {
        "colab": {
          "base_uri": "https://localhost:8080/"
        },
        "id": "f4a73dd4",
        "outputId": "66efbf9a-eb08-4c67-dbde-28b9b1b8246c"
      },
      "outputs": [
        {
          "output_type": "stream",
          "name": "stdout",
          "text": [
            "Shape of Matrix 1:  torch.Size([2, 2])\n",
            "Shape of Matrix 2:  torch.Size([2, 1])\n",
            "tensor([[ 5.],\n",
            "        [11.]])\n"
          ]
        }
      ],
      "source": [
        "m1 = torch.FloatTensor([[1, 2], [3, 4]])\n",
        "m2 = torch.FloatTensor([[1], [2]])\n",
        "print('Shape of Matrix 1: ', m1.shape)\n",
        "print('Shape of Matrix 2: ', m2.shape)\n",
        "print(m1.matmul(m2))\n",
        "\n",
        "#행렬 곱셈 vs 원소별 곱셈"
      ]
    },
    {
      "cell_type": "code",
      "execution_count": null,
      "id": "4f5ebc60",
      "metadata": {
        "colab": {
          "base_uri": "https://localhost:8080/"
        },
        "id": "4f5ebc60",
        "outputId": "17e39c39-8937-4ca2-a177-82c14d177e1e"
      },
      "outputs": [
        {
          "output_type": "stream",
          "name": "stdout",
          "text": [
            "Shape of Matrix 1:  torch.Size([2, 2])\n",
            "Shape of Matrix 2:  torch.Size([2, 1])\n",
            "tensor([[1., 2.],\n",
            "        [6., 8.]])\n",
            "tensor([[1., 2.],\n",
            "        [6., 8.]])\n"
          ]
        }
      ],
      "source": [
        "m1 = torch.FloatTensor([[1, 2], [3, 4]])\n",
        "m2 = torch.FloatTensor([[1], [2]])\n",
        "print('Shape of Matrix 1: ', m1.shape)\n",
        "print('Shape of Matrix 2: ', m2.shape)\n",
        "print(m1 * m2)\n",
        "print(m1.mul(m2))"
      ]
    },
    {
      "cell_type": "markdown",
      "id": "b4a2f255",
      "metadata": {
        "id": "b4a2f255"
      },
      "source": [
        "2) 평균(Mean)"
      ]
    },
    {
      "cell_type": "code",
      "execution_count": null,
      "id": "ce4fb238",
      "metadata": {
        "colab": {
          "base_uri": "https://localhost:8080/"
        },
        "id": "ce4fb238",
        "outputId": "db7e96bb-dd42-4df2-a9c0-1d7e84d8219d"
      },
      "outputs": [
        {
          "output_type": "stream",
          "name": "stdout",
          "text": [
            "tensor(1.5000)\n"
          ]
        }
      ],
      "source": [
        "t = torch.FloatTensor([1, 2])\n",
        "print(t.mean())"
      ]
    },
    {
      "cell_type": "code",
      "execution_count": null,
      "id": "e2c98d04",
      "metadata": {
        "colab": {
          "base_uri": "https://localhost:8080/"
        },
        "id": "e2c98d04",
        "outputId": "8640ebf6-366e-4593-845b-6a3ca77a6b60"
      },
      "outputs": [
        {
          "output_type": "stream",
          "name": "stdout",
          "text": [
            "tensor([[1., 2.],\n",
            "        [3., 4.]])\n"
          ]
        }
      ],
      "source": [
        "t = torch.FloatTensor([[1, 2], [3, 4]])\n",
        "print(t)"
      ]
    },
    {
      "cell_type": "code",
      "execution_count": null,
      "id": "7130910f",
      "metadata": {
        "colab": {
          "base_uri": "https://localhost:8080/"
        },
        "id": "7130910f",
        "outputId": "35a2ffab-1174-4649-883a-04a67610414b"
      },
      "outputs": [
        {
          "output_type": "stream",
          "name": "stdout",
          "text": [
            "tensor(2.5000)\n"
          ]
        }
      ],
      "source": [
        "print(t.mean())"
      ]
    },
    {
      "cell_type": "code",
      "execution_count": null,
      "id": "72c60f38",
      "metadata": {
        "colab": {
          "base_uri": "https://localhost:8080/"
        },
        "id": "72c60f38",
        "outputId": "7f1e4d3d-7ffb-4d62-d8d3-3893cc4e1fe3"
      },
      "outputs": [
        {
          "output_type": "stream",
          "name": "stdout",
          "text": [
            "tensor([2., 3.])\n"
          ]
        }
      ],
      "source": [
        "print(t.mean(dim=0)) #차원을 인자로 주는 경우"
      ]
    },
    {
      "cell_type": "code",
      "execution_count": null,
      "id": "e65b8fe0",
      "metadata": {
        "colab": {
          "base_uri": "https://localhost:8080/"
        },
        "id": "e65b8fe0",
        "outputId": "7c9ebd94-216f-4dad-e4d3-ef2ed034af13"
      },
      "outputs": [
        {
          "output_type": "stream",
          "name": "stdout",
          "text": [
            "tensor([1.5000, 3.5000])\n"
          ]
        }
      ],
      "source": [
        "print(t.mean(dim=1))"
      ]
    },
    {
      "cell_type": "code",
      "execution_count": null,
      "id": "2e05a8b6",
      "metadata": {
        "colab": {
          "base_uri": "https://localhost:8080/"
        },
        "id": "2e05a8b6",
        "outputId": "c3ae5480-8b56-4768-83c8-3ac848540d05"
      },
      "outputs": [
        {
          "output_type": "stream",
          "name": "stdout",
          "text": [
            "tensor([1.5000, 3.5000])\n"
          ]
        }
      ],
      "source": [
        "print(t.mean(dim=-1))"
      ]
    },
    {
      "cell_type": "markdown",
      "id": "7a414221",
      "metadata": {
        "id": "7a414221"
      },
      "source": [
        "3) 덧셈(Sum)"
      ]
    },
    {
      "cell_type": "code",
      "execution_count": null,
      "id": "012d157b",
      "metadata": {
        "colab": {
          "base_uri": "https://localhost:8080/"
        },
        "id": "012d157b",
        "outputId": "e6a6e69e-2628-4f07-83f5-c0f2352efb72"
      },
      "outputs": [
        {
          "output_type": "stream",
          "name": "stdout",
          "text": [
            "tensor([[1., 2.],\n",
            "        [3., 4.]])\n"
          ]
        }
      ],
      "source": [
        "t = torch.FloatTensor([[1, 2], [3, 4]])\n",
        "print(t)"
      ]
    },
    {
      "cell_type": "code",
      "execution_count": null,
      "id": "6bf12a7d",
      "metadata": {
        "colab": {
          "base_uri": "https://localhost:8080/"
        },
        "id": "6bf12a7d",
        "outputId": "70be40af-7a47-46e6-c321-6c1809f7f662"
      },
      "outputs": [
        {
          "output_type": "stream",
          "name": "stdout",
          "text": [
            "tensor(10.)\n",
            "tensor([4., 6.])\n",
            "tensor([3., 7.])\n",
            "tensor([3., 7.])\n"
          ]
        }
      ],
      "source": [
        "print(t.sum())\n",
        "print(t.sum(dim=0)) #행 제거\n",
        "print(t.sum(dim=1)) #열 제거\n",
        "print(t.sum(dim=-1)) #열 제거"
      ]
    },
    {
      "cell_type": "markdown",
      "id": "b46a6e24",
      "metadata": {
        "id": "b46a6e24"
      },
      "source": [
        "4) 최대(Max)와 아그맥스(ArgMax)"
      ]
    },
    {
      "cell_type": "code",
      "execution_count": null,
      "id": "d48e2f38",
      "metadata": {
        "colab": {
          "base_uri": "https://localhost:8080/"
        },
        "id": "d48e2f38",
        "outputId": "85645ab5-e5c3-48e0-8b74-bc61c6e1bb33"
      },
      "outputs": [
        {
          "output_type": "stream",
          "name": "stdout",
          "text": [
            "tensor([[1., 2.],\n",
            "        [3., 4.]])\n"
          ]
        }
      ],
      "source": [
        "t = torch.FloatTensor([[1, 2], [3, 4]])\n",
        "print(t)"
      ]
    },
    {
      "cell_type": "code",
      "execution_count": null,
      "id": "11d58614",
      "metadata": {
        "scrolled": true,
        "colab": {
          "base_uri": "https://localhost:8080/"
        },
        "id": "11d58614",
        "outputId": "d42f97f5-b3e9-4c91-c638-d26c4f5243e6"
      },
      "outputs": [
        {
          "output_type": "stream",
          "name": "stdout",
          "text": [
            "tensor(4.)\n"
          ]
        }
      ],
      "source": [
        "print(t.max())"
      ]
    },
    {
      "cell_type": "code",
      "execution_count": null,
      "id": "45f4b033",
      "metadata": {
        "colab": {
          "base_uri": "https://localhost:8080/"
        },
        "id": "45f4b033",
        "outputId": "77ba1662-48b2-4cbb-dc35-76df95a0f0ac"
      },
      "outputs": [
        {
          "output_type": "stream",
          "name": "stdout",
          "text": [
            "torch.return_types.max(\n",
            "values=tensor([3., 4.]),\n",
            "indices=tensor([1, 1]))\n"
          ]
        }
      ],
      "source": [
        "print(t.max(dim=0)) #첫번째 차원 제거"
      ]
    },
    {
      "cell_type": "code",
      "execution_count": null,
      "id": "740872a4",
      "metadata": {
        "colab": {
          "base_uri": "https://localhost:8080/"
        },
        "id": "740872a4",
        "outputId": "582a558c-ec66-44c0-a3ff-19323620d35c"
      },
      "outputs": [
        {
          "output_type": "stream",
          "name": "stdout",
          "text": [
            "Max:  tensor([3., 4.])\n",
            "Argmax:  tensor([1, 1])\n"
          ]
        }
      ],
      "source": [
        "print('Max: ', t.max(dim=0)[0])\n",
        "print('Argmax: ', t.max(dim=0)[1])"
      ]
    },
    {
      "cell_type": "code",
      "execution_count": null,
      "id": "433dc3d8",
      "metadata": {
        "colab": {
          "base_uri": "https://localhost:8080/"
        },
        "id": "433dc3d8",
        "outputId": "e19a3870-1948-4e3e-b00c-25458cbd0d7f"
      },
      "outputs": [
        {
          "output_type": "stream",
          "name": "stdout",
          "text": [
            "torch.return_types.max(\n",
            "values=tensor([2., 4.]),\n",
            "indices=tensor([1, 1]))\n",
            "torch.return_types.max(\n",
            "values=tensor([2., 4.]),\n",
            "indices=tensor([1, 1]))\n"
          ]
        }
      ],
      "source": [
        "print(t.max(dim=1))\n",
        "print(t.max(dim=-1))"
      ]
    },
    {
      "cell_type": "markdown",
      "id": "c9e2baa4",
      "metadata": {
        "id": "c9e2baa4"
      },
      "source": [
        "4) 뷰(View) -원소의 수를 유지하면서 텐서의 크기 변경 !"
      ]
    },
    {
      "cell_type": "code",
      "execution_count": null,
      "id": "ea1c2163",
      "metadata": {
        "id": "ea1c2163"
      },
      "outputs": [],
      "source": [
        "t = np.array([[[0, 1, 2], [3, 4, 5]], [[6,7,8], [9, 10, 11]]])\n",
        "ft = torch.FloatTensor(t)\n",
        "#뷰는 넘파이에서 reshape 와 같은 역할을 한다.\n",
        "#텐서의 크기를 변경해주는 역할을 한다."
      ]
    },
    {
      "cell_type": "code",
      "execution_count": null,
      "id": "41a085c7",
      "metadata": {
        "colab": {
          "base_uri": "https://localhost:8080/"
        },
        "id": "41a085c7",
        "outputId": "00ed62d3-e995-44c2-e8a2-bf8205a1f810"
      },
      "outputs": [
        {
          "output_type": "stream",
          "name": "stdout",
          "text": [
            "torch.Size([2, 2, 3])\n"
          ]
        }
      ],
      "source": [
        "print(ft.shape)"
      ]
    },
    {
      "cell_type": "markdown",
      "id": "21d493e5",
      "metadata": {
        "id": "21d493e5"
      },
      "source": [
        "4-1) 3차원 텐서에서 2차원 텐서로 변경"
      ]
    },
    {
      "cell_type": "code",
      "execution_count": null,
      "id": "15e2d9e2",
      "metadata": {
        "colab": {
          "base_uri": "https://localhost:8080/"
        },
        "id": "15e2d9e2",
        "outputId": "1ef2f82d-2478-4b62-e3c7-a1e709a820b0"
      },
      "outputs": [
        {
          "output_type": "stream",
          "name": "stdout",
          "text": [
            "tensor([[ 0.,  1.,  2.],\n",
            "        [ 3.,  4.,  5.],\n",
            "        [ 6.,  7.,  8.],\n",
            "        [ 9., 10., 11.]])\n",
            "torch.Size([4, 3])\n"
          ]
        }
      ],
      "source": [
        "print(ft.view([-1, 3]))\n",
        "print(ft.view([-1, 3]).shape)\n",
        "#view를 사용하여 크기를 2차원 텐서로 변경하기"
      ]
    },
    {
      "cell_type": "markdown",
      "id": "ac4cb20d",
      "metadata": {
        "id": "ac4cb20d"
      },
      "source": [
        "4-2) 3차원 텐서의 크기 변경"
      ]
    },
    {
      "cell_type": "code",
      "execution_count": null,
      "id": "7e92af83",
      "metadata": {
        "colab": {
          "base_uri": "https://localhost:8080/"
        },
        "id": "7e92af83",
        "outputId": "50ffa8e3-b444-4fe4-b796-dfa2794444cb"
      },
      "outputs": [
        {
          "output_type": "stream",
          "name": "stdout",
          "text": [
            "tensor([[[ 0.,  1.,  2.]],\n",
            "\n",
            "        [[ 3.,  4.,  5.]],\n",
            "\n",
            "        [[ 6.,  7.,  8.]],\n",
            "\n",
            "        [[ 9., 10., 11.]]])\n",
            "torch.Size([4, 1, 3])\n"
          ]
        }
      ],
      "source": [
        "print(ft.view([-1, 1, 3]))\n",
        "print(ft.view([-1, 1, 3]).shape)"
      ]
    },
    {
      "cell_type": "markdown",
      "id": "acde6964",
      "metadata": {
        "id": "acde6964"
      },
      "source": [
        "5) 스퀴즈(Squeeze) - 1인 차원을 제거한다"
      ]
    },
    {
      "cell_type": "code",
      "execution_count": null,
      "id": "8e95eca7",
      "metadata": {
        "colab": {
          "base_uri": "https://localhost:8080/"
        },
        "id": "8e95eca7",
        "outputId": "704595f2-2946-4c5c-eddb-bdf4e24e79c9"
      },
      "outputs": [
        {
          "output_type": "stream",
          "name": "stdout",
          "text": [
            "tensor([[0.],\n",
            "        [1.],\n",
            "        [2.]])\n",
            "torch.Size([3, 1])\n"
          ]
        }
      ],
      "source": [
        "ft = torch.FloatTensor([[0], [1], [2]])\n",
        "print(ft)\n",
        "print(ft.shape)"
      ]
    },
    {
      "cell_type": "code",
      "execution_count": null,
      "id": "93b3384c",
      "metadata": {
        "colab": {
          "base_uri": "https://localhost:8080/"
        },
        "id": "93b3384c",
        "outputId": "a54d6432-dca3-4cf8-bc2d-2eefc5f01e96"
      },
      "outputs": [
        {
          "output_type": "stream",
          "name": "stdout",
          "text": [
            "tensor([0., 1., 2.])\n",
            "torch.Size([3])\n"
          ]
        }
      ],
      "source": [
        "print(ft.squeeze())\n",
        "print(ft.squeeze().shape)"
      ]
    },
    {
      "cell_type": "markdown",
      "id": "b47a1119",
      "metadata": {
        "id": "b47a1119"
      },
      "source": [
        "6) 언스퀴즈(Unsqueeze) - 특정 위치에 1인 차원을 추가한다"
      ]
    },
    {
      "cell_type": "code",
      "execution_count": null,
      "id": "2d255d94",
      "metadata": {
        "colab": {
          "base_uri": "https://localhost:8080/"
        },
        "id": "2d255d94",
        "outputId": "9d9d9a8e-dbe4-45cb-af17-c0edb2e466ed"
      },
      "outputs": [
        {
          "output_type": "stream",
          "name": "stdout",
          "text": [
            "torch.Size([3])\n"
          ]
        }
      ],
      "source": [
        "ft = torch.Tensor([0, 1, 2])\n",
        "print(ft.shape)\n",
        "#스퀴즈랑 정 반대 특정 위치에 1인 차원을 추가할 수 있음 !"
      ]
    },
    {
      "cell_type": "code",
      "execution_count": null,
      "id": "ad06ce76",
      "metadata": {
        "colab": {
          "base_uri": "https://localhost:8080/"
        },
        "id": "ad06ce76",
        "outputId": "4dc409d8-46e0-462e-e02f-b75803480343"
      },
      "outputs": [
        {
          "output_type": "stream",
          "name": "stdout",
          "text": [
            "tensor([[0., 1., 2.]])\n",
            "torch.Size([1, 3])\n"
          ]
        }
      ],
      "source": [
        "print(ft.unsqueeze(0))\n",
        "print(ft.unsqueeze(0).shape)"
      ]
    },
    {
      "cell_type": "code",
      "execution_count": null,
      "id": "cdbfb4b3",
      "metadata": {
        "colab": {
          "base_uri": "https://localhost:8080/"
        },
        "id": "cdbfb4b3",
        "outputId": "a2226f43-74e1-4109-864c-f64571106c68"
      },
      "outputs": [
        {
          "output_type": "stream",
          "name": "stdout",
          "text": [
            "tensor([[0., 1., 2.]])\n",
            "torch.Size([1, 3])\n"
          ]
        }
      ],
      "source": [
        "print(ft.view(1, -1))\n",
        "print(ft.view(1, -1).shape)"
      ]
    },
    {
      "cell_type": "code",
      "execution_count": null,
      "id": "ec04cc9a",
      "metadata": {
        "colab": {
          "base_uri": "https://localhost:8080/"
        },
        "id": "ec04cc9a",
        "outputId": "33165368-b62f-47fb-902c-348d11219b97"
      },
      "outputs": [
        {
          "output_type": "stream",
          "name": "stdout",
          "text": [
            "tensor([[0.],\n",
            "        [1.],\n",
            "        [2.]])\n",
            "torch.Size([3, 1])\n"
          ]
        }
      ],
      "source": [
        "print(ft.unsqueeze(1))\n",
        "print(ft.unsqueeze(1).shape)"
      ]
    },
    {
      "cell_type": "code",
      "execution_count": null,
      "id": "c7b9b8f5",
      "metadata": {
        "colab": {
          "base_uri": "https://localhost:8080/"
        },
        "id": "c7b9b8f5",
        "outputId": "29c84ca1-82b8-498b-df4b-96cd38f3d021"
      },
      "outputs": [
        {
          "output_type": "stream",
          "name": "stdout",
          "text": [
            "tensor([[0.],\n",
            "        [1.],\n",
            "        [2.]])\n",
            "torch.Size([3, 1])\n"
          ]
        }
      ],
      "source": [
        "print(ft.unsqueeze(-1))\n",
        "print(ft.unsqueeze(-1).shape)"
      ]
    },
    {
      "cell_type": "markdown",
      "id": "05c693d8",
      "metadata": {
        "id": "05c693d8"
      },
      "source": [
        "7) 타입 캐스팅(Type Casting)"
      ]
    },
    {
      "cell_type": "code",
      "execution_count": null,
      "id": "7a3b0587",
      "metadata": {
        "colab": {
          "base_uri": "https://localhost:8080/"
        },
        "id": "7a3b0587",
        "outputId": "61d92f92-3add-4692-879a-627af2b7d56f"
      },
      "outputs": [
        {
          "output_type": "stream",
          "name": "stdout",
          "text": [
            "tensor([1, 2, 3, 4])\n"
          ]
        }
      ],
      "source": [
        "lt = torch.LongTensor([1, 2, 3, 4])\n",
        "print(lt)"
      ]
    },
    {
      "cell_type": "code",
      "execution_count": null,
      "id": "2083aa2b",
      "metadata": {
        "colab": {
          "base_uri": "https://localhost:8080/"
        },
        "id": "2083aa2b",
        "outputId": "970111d4-ff69-483e-f5a0-f779a0e15d40"
      },
      "outputs": [
        {
          "output_type": "stream",
          "name": "stdout",
          "text": [
            "tensor([1., 2., 3., 4.])\n"
          ]
        }
      ],
      "source": [
        "print(lt.float())"
      ]
    },
    {
      "cell_type": "code",
      "execution_count": null,
      "id": "a9ef6a98",
      "metadata": {
        "colab": {
          "base_uri": "https://localhost:8080/"
        },
        "id": "a9ef6a98",
        "outputId": "cc16bd9f-15ca-4b00-b5ed-24f3298c2c82"
      },
      "outputs": [
        {
          "output_type": "stream",
          "name": "stdout",
          "text": [
            "tensor([1, 0, 0, 1], dtype=torch.uint8)\n"
          ]
        }
      ],
      "source": [
        "bt = torch.ByteTensor([True, False, False, True])\n",
        "print(bt)"
      ]
    },
    {
      "cell_type": "code",
      "execution_count": null,
      "id": "8e6d0214",
      "metadata": {
        "colab": {
          "base_uri": "https://localhost:8080/"
        },
        "id": "8e6d0214",
        "outputId": "f4490834-09b6-4894-e937-b484b83a983e"
      },
      "outputs": [
        {
          "output_type": "stream",
          "name": "stdout",
          "text": [
            "tensor([1, 0, 0, 1])\n",
            "tensor([1., 0., 0., 1.])\n"
          ]
        }
      ],
      "source": [
        "print(bt.long())\n",
        "print(bt.float())"
      ]
    },
    {
      "cell_type": "markdown",
      "id": "f6a77713",
      "metadata": {
        "id": "f6a77713"
      },
      "source": [
        "8) 연결하기(concatenate)"
      ]
    },
    {
      "cell_type": "code",
      "execution_count": null,
      "id": "caa451c5",
      "metadata": {
        "id": "caa451c5"
      },
      "outputs": [],
      "source": [
        "x = torch.FloatTensor([[1, 2], [3, 4]])\n",
        "y = torch.FloatTensor([[5, 6], [7, 8]])"
      ]
    },
    {
      "cell_type": "code",
      "execution_count": null,
      "id": "2a938d4a",
      "metadata": {
        "colab": {
          "base_uri": "https://localhost:8080/"
        },
        "id": "2a938d4a",
        "outputId": "e72dde17-2b19-41a9-fdfa-2e884b3324d3"
      },
      "outputs": [
        {
          "output_type": "stream",
          "name": "stdout",
          "text": [
            "tensor([[1., 2.],\n",
            "        [3., 4.],\n",
            "        [5., 6.],\n",
            "        [7., 8.]])\n"
          ]
        }
      ],
      "source": [
        "print(torch.cat([x, y], dim=0))\n",
        "\n",
        "#두 텐서 연결하기"
      ]
    },
    {
      "cell_type": "code",
      "execution_count": null,
      "id": "1bb02525",
      "metadata": {
        "colab": {
          "base_uri": "https://localhost:8080/"
        },
        "id": "1bb02525",
        "outputId": "efe7b116-4949-4664-d8f3-163cb457d8af"
      },
      "outputs": [
        {
          "output_type": "stream",
          "name": "stdout",
          "text": [
            "tensor([[1., 2., 5., 6.],\n",
            "        [3., 4., 7., 8.]])\n"
          ]
        }
      ],
      "source": [
        "print(torch.cat([x, y], dim=1))"
      ]
    },
    {
      "cell_type": "markdown",
      "id": "de0583fb",
      "metadata": {
        "id": "de0583fb"
      },
      "source": [
        "9) 스택킹(Stacking)"
      ]
    },
    {
      "cell_type": "code",
      "execution_count": null,
      "id": "4331f26e",
      "metadata": {
        "id": "4331f26e"
      },
      "outputs": [],
      "source": [
        "x = torch.FloatTensor([1, 4])\n",
        "y = torch.FloatTensor([2, 5])\n",
        "z = torch.FloatTensor([3, 6])"
      ]
    },
    {
      "cell_type": "code",
      "execution_count": null,
      "id": "03b0ed06",
      "metadata": {
        "colab": {
          "base_uri": "https://localhost:8080/"
        },
        "id": "03b0ed06",
        "outputId": "1074455e-8056-4a9d-d642-a71cad32fa0c"
      },
      "outputs": [
        {
          "output_type": "stream",
          "name": "stdout",
          "text": [
            "tensor([[1., 4.],\n",
            "        [2., 5.],\n",
            "        [3., 6.]])\n"
          ]
        }
      ],
      "source": [
        "print(torch.stack([x, y, z]))\n",
        "#연결의 또 다른 방법 - 스택킹이 연결보다 더 많은 연산 포함하고있음"
      ]
    },
    {
      "cell_type": "code",
      "execution_count": null,
      "id": "1fea6024",
      "metadata": {
        "colab": {
          "base_uri": "https://localhost:8080/"
        },
        "id": "1fea6024",
        "outputId": "c6303987-ceaf-45f2-b64f-481de16cc37a"
      },
      "outputs": [
        {
          "output_type": "stream",
          "name": "stdout",
          "text": [
            "tensor([[1., 4.],\n",
            "        [2., 5.],\n",
            "        [3., 6.]])\n"
          ]
        }
      ],
      "source": [
        "print(torch.cat([x.unsqueeze(0), y.unsqueeze(0), z.unsqueeze(0)], dim=0))"
      ]
    },
    {
      "cell_type": "code",
      "execution_count": null,
      "id": "f3282793",
      "metadata": {
        "colab": {
          "base_uri": "https://localhost:8080/"
        },
        "id": "f3282793",
        "outputId": "86e93a8b-3909-4d78-959f-f868b2789efd"
      },
      "outputs": [
        {
          "output_type": "stream",
          "name": "stdout",
          "text": [
            "tensor([[1., 2., 3.],\n",
            "        [4., 5., 6.]])\n"
          ]
        }
      ],
      "source": [
        "print(torch.stack([x, y, z], dim=1))"
      ]
    },
    {
      "cell_type": "markdown",
      "id": "2791892d",
      "metadata": {
        "id": "2791892d"
      },
      "source": [
        "10) ones_like와 zeros_like - 0으로 채워진 텐서와 1로 채워진 텐서"
      ]
    },
    {
      "cell_type": "code",
      "execution_count": null,
      "id": "49b19019",
      "metadata": {
        "colab": {
          "base_uri": "https://localhost:8080/"
        },
        "id": "49b19019",
        "outputId": "cbacf52e-7741-4f5d-dcbf-d594da5771cc"
      },
      "outputs": [
        {
          "output_type": "stream",
          "name": "stdout",
          "text": [
            "tensor([[0., 1., 2.],\n",
            "        [2., 1., 0.]])\n"
          ]
        }
      ],
      "source": [
        "x = torch.FloatTensor([[0, 1, 2], [2, 1, 0]])\n",
        "print(x)"
      ]
    },
    {
      "cell_type": "code",
      "execution_count": null,
      "id": "af44988b",
      "metadata": {
        "colab": {
          "base_uri": "https://localhost:8080/"
        },
        "id": "af44988b",
        "outputId": "b3b76447-acdd-4a7c-cae2-3360c6811047"
      },
      "outputs": [
        {
          "output_type": "stream",
          "name": "stdout",
          "text": [
            "tensor([[1., 1., 1.],\n",
            "        [1., 1., 1.]])\n"
          ]
        }
      ],
      "source": [
        "print(torch.ones_like(x))"
      ]
    },
    {
      "cell_type": "code",
      "execution_count": null,
      "id": "472e1176",
      "metadata": {
        "colab": {
          "base_uri": "https://localhost:8080/"
        },
        "id": "472e1176",
        "outputId": "12010a66-6239-4009-c46f-5ce36f873a37"
      },
      "outputs": [
        {
          "output_type": "stream",
          "name": "stdout",
          "text": [
            "tensor([[0., 0., 0.],\n",
            "        [0., 0., 0.]])\n"
          ]
        }
      ],
      "source": [
        "print(torch.zeros_like(x))"
      ]
    },
    {
      "cell_type": "markdown",
      "id": "f42301cb",
      "metadata": {
        "id": "f42301cb"
      },
      "source": [
        "11) In-place Operation(덮어쓰기 연산)"
      ]
    },
    {
      "cell_type": "code",
      "execution_count": null,
      "id": "6e3a1ee2",
      "metadata": {
        "id": "6e3a1ee2"
      },
      "outputs": [],
      "source": [
        "x = torch.FloatTensor([[1,2], [3, 4]])"
      ]
    },
    {
      "cell_type": "code",
      "execution_count": null,
      "id": "cdc3b28d",
      "metadata": {
        "colab": {
          "base_uri": "https://localhost:8080/"
        },
        "id": "cdc3b28d",
        "outputId": "7a988d4d-ac6a-4b85-83c1-d497f6dd487b"
      },
      "outputs": [
        {
          "output_type": "stream",
          "name": "stdout",
          "text": [
            "tensor([[2., 4.],\n",
            "        [6., 8.]])\n",
            "tensor([[1., 2.],\n",
            "        [3., 4.]])\n"
          ]
        }
      ],
      "source": [
        "print(x.mul(2.)) #곱한 값 출력\n",
        "print(x) #기존 값 출력"
      ]
    },
    {
      "cell_type": "code",
      "execution_count": null,
      "id": "ad3f35cb",
      "metadata": {
        "colab": {
          "base_uri": "https://localhost:8080/"
        },
        "id": "ad3f35cb",
        "outputId": "4647828a-c8f6-49f6-cfd7-f03b64d1d405"
      },
      "outputs": [
        {
          "output_type": "stream",
          "name": "stdout",
          "text": [
            "tensor([[ 4.,  8.],\n",
            "        [12., 16.]])\n",
            "tensor([[ 4.,  8.],\n",
            "        [12., 16.]])\n"
          ]
        }
      ],
      "source": [
        "print(x.mul_(2.)) #연산 뒤 _ 를 붙이면 기존의 값 덮어쓰기\n",
        "print(x)"
      ]
    },
    {
      "cell_type": "markdown",
      "id": "cb856b20",
      "metadata": {
        "id": "cb856b20"
      },
      "source": [
        "*1. 함수(function)과 클래스(Class)의 차이*"
      ]
    },
    {
      "cell_type": "markdown",
      "id": "617d439a",
      "metadata": {
        "id": "617d439a"
      },
      "source": [
        "1) 함수(function)로 덧셈기 구현하기"
      ]
    },
    {
      "cell_type": "code",
      "execution_count": null,
      "id": "09d49156",
      "metadata": {
        "id": "09d49156"
      },
      "outputs": [],
      "source": [
        "result = 0 #전역 변수 선언하기"
      ]
    },
    {
      "cell_type": "code",
      "execution_count": null,
      "id": "3df26549",
      "metadata": {
        "id": "3df26549"
      },
      "outputs": [],
      "source": [
        "def add(num): #add 함수 구현하기 - result 에 함수의 인자로 온 숫자를 더하고 리턴 !\n",
        "    global result\n",
        "    result += num\n",
        "    return result"
      ]
    },
    {
      "cell_type": "code",
      "execution_count": null,
      "id": "f985e63d",
      "metadata": {
        "colab": {
          "base_uri": "https://localhost:8080/"
        },
        "id": "f985e63d",
        "outputId": "e0a66001-1587-4a8c-bf1f-cc62c910a16e"
      },
      "outputs": [
        {
          "output_type": "stream",
          "name": "stdout",
          "text": [
            "3\n",
            "7\n"
          ]
        }
      ],
      "source": [
        "print(add(3))\n",
        "print(add(4))"
      ]
    },
    {
      "cell_type": "markdown",
      "id": "e0a43b0b",
      "metadata": {
        "id": "e0a43b0b"
      },
      "source": [
        "2) 함수(function)로 두 개의 덧셈기 구현하기"
      ]
    },
    {
      "cell_type": "code",
      "execution_count": null,
      "id": "b79b96e6",
      "metadata": {
        "id": "b79b96e6"
      },
      "outputs": [],
      "source": [
        "result1 = 0\n",
        "result2 = 0"
      ]
    },
    {
      "cell_type": "code",
      "execution_count": null,
      "id": "c76f07d5",
      "metadata": {
        "id": "c76f07d5"
      },
      "outputs": [],
      "source": [
        "def add1(num):\n",
        "    global result1\n",
        "    result1 += num\n",
        "    return result1\n",
        "\n",
        "def add2(num):\n",
        "    global result2\n",
        "    result2 += num\n",
        "    return result2"
      ]
    },
    {
      "cell_type": "code",
      "execution_count": null,
      "id": "e6067062",
      "metadata": {
        "colab": {
          "base_uri": "https://localhost:8080/"
        },
        "id": "e6067062",
        "outputId": "e0e8c4d7-d406-45e4-9fee-05fa694e0f02"
      },
      "outputs": [
        {
          "output_type": "stream",
          "name": "stdout",
          "text": [
            "10\n",
            "14\n",
            "13\n",
            "20\n"
          ]
        }
      ],
      "source": [
        "print(add1(3))\n",
        "print(add1(4))\n",
        "print(add2(3))\n",
        "print(add2(7))\n",
        "\n",
        "#서로의 값에 영향을 주지 않고 다른 연산이 가능하다"
      ]
    },
    {
      "cell_type": "markdown",
      "id": "ba2ae679",
      "metadata": {
        "id": "ba2ae679"
      },
      "source": [
        "3) 클래스(Class)로 덧셈기 구현하기"
      ]
    },
    {
      "cell_type": "code",
      "execution_count": null,
      "id": "b93db1b9",
      "metadata": {
        "id": "b93db1b9"
      },
      "outputs": [],
      "source": [
        "class Calculator: #클래스로 구현하기\n",
        "    def __init__(self): #호출 시 실행되는 초기화 함수\n",
        "        self.result = 0\n",
        "        \n",
        "    def add(self, num):\n",
        "        self.result += num\n",
        "        return self.result"
      ]
    },
    {
      "cell_type": "code",
      "execution_count": null,
      "id": "1c613f1c",
      "metadata": {
        "id": "1c613f1c"
      },
      "outputs": [],
      "source": [
        "cal1 = Calculator()"
      ]
    },
    {
      "cell_type": "code",
      "execution_count": null,
      "id": "d4ac04c4",
      "metadata": {
        "id": "d4ac04c4"
      },
      "outputs": [],
      "source": [
        "cal2 = Calculator()"
      ]
    },
    {
      "cell_type": "code",
      "execution_count": null,
      "id": "d2fec2d1",
      "metadata": {
        "colab": {
          "base_uri": "https://localhost:8080/"
        },
        "id": "d2fec2d1",
        "outputId": "85f0940e-8926-43f8-ebc5-39dd43c03063"
      },
      "outputs": [
        {
          "output_type": "stream",
          "name": "stdout",
          "text": [
            "3\n",
            "7\n",
            "3\n",
            "10\n"
          ]
        }
      ],
      "source": [
        "print(cal1.add(3))\n",
        "print(cal1.add(4))\n",
        "print(cal2.add(3))\n",
        "print(cal2.add(7))"
      ]
    },
    {
      "cell_type": "markdown",
      "id": "a4239349",
      "metadata": {
        "id": "a4239349"
      },
      "source": [
        "*03-01 선형 회귀(Linear Regression)*"
      ]
    },
    {
      "cell_type": "markdown",
      "id": "5e19f297",
      "metadata": {
        "id": "5e19f297"
      },
      "source": [
        "훈련 데이터셋의 구성"
      ]
    },
    {
      "cell_type": "code",
      "execution_count": null,
      "id": "c3686e46",
      "metadata": {
        "id": "c3686e46"
      },
      "outputs": [],
      "source": [
        "x_train = torch.FloatTensor([[1], [2], [3]])\n",
        "y_train = torch.FloatTensor([[2], [4], [6]])"
      ]
    },
    {
      "cell_type": "markdown",
      "id": "8c92c9f9",
      "metadata": {
        "id": "8c92c9f9"
      },
      "source": [
        "2. 가설(Hypothesis) 수립\n",
        "- 머신 러닝에서 식을 세울 때 이 식을 가설이라고 함."
      ]
    },
    {
      "cell_type": "markdown",
      "id": "dce95eed",
      "metadata": {
        "id": "dce95eed"
      },
      "source": [
        "3. 비용 함수(Cost function)에 대한 이해\n",
        "- 비용함수 = 손실함수 = 오차 함수 = 목적 함수"
      ]
    },
    {
      "cell_type": "markdown",
      "id": "755bd773",
      "metadata": {
        "id": "755bd773"
      },
      "source": [
        "4. 옵티마이저 - 경사 하강법(Gradient Descent)\n",
        "- W,b 값을 찾는 방법 : 최적화 알고리즘"
      ]
    },
    {
      "cell_type": "markdown",
      "id": "0330611f",
      "metadata": {
        "id": "0330611f"
      },
      "source": [
        "파이토치로 선형 회귀 구현하기"
      ]
    },
    {
      "cell_type": "markdown",
      "id": "b85b791e",
      "metadata": {
        "id": "b85b791e"
      },
      "source": [
        "1. 기본 셋팅"
      ]
    },
    {
      "cell_type": "code",
      "execution_count": null,
      "id": "01219ed5",
      "metadata": {
        "id": "01219ed5"
      },
      "outputs": [],
      "source": [
        "import torch\n",
        "import torch.nn as nn\n",
        "import torch.nn.functional as F\n",
        "import torch.optim as optim"
      ]
    },
    {
      "cell_type": "code",
      "execution_count": null,
      "id": "fc971c7f",
      "metadata": {
        "colab": {
          "base_uri": "https://localhost:8080/"
        },
        "id": "fc971c7f",
        "outputId": "ebd45857-2370-4feb-c8cf-e0a27816e89c"
      },
      "outputs": [
        {
          "output_type": "execute_result",
          "data": {
            "text/plain": [
              "<torch._C.Generator at 0x7fb98c90a0f0>"
            ]
          },
          "metadata": {},
          "execution_count": 92
        }
      ],
      "source": [
        "torch.manual_seed(1)"
      ]
    },
    {
      "cell_type": "markdown",
      "id": "ba3c47c0",
      "metadata": {
        "id": "ba3c47c0"
      },
      "source": [
        "2. 변수 선언"
      ]
    },
    {
      "cell_type": "code",
      "execution_count": null,
      "id": "b6a499d4",
      "metadata": {
        "id": "b6a499d4"
      },
      "outputs": [],
      "source": [
        "x_train = torch.FloatTensor([[1], [2], [3]])\n",
        "y_train = torch.FloatTensor([[2], [4], [6]])"
      ]
    },
    {
      "cell_type": "code",
      "execution_count": null,
      "id": "428fe38b",
      "metadata": {
        "colab": {
          "base_uri": "https://localhost:8080/"
        },
        "id": "428fe38b",
        "outputId": "402bd0ca-5c6d-412f-b00f-c703f9fd2bfa"
      },
      "outputs": [
        {
          "output_type": "stream",
          "name": "stdout",
          "text": [
            "tensor([[1.],\n",
            "        [2.],\n",
            "        [3.]])\n",
            "torch.Size([3, 1])\n"
          ]
        }
      ],
      "source": [
        "print(x_train)\n",
        "print(x_train.shape)"
      ]
    },
    {
      "cell_type": "code",
      "execution_count": null,
      "id": "5fcbd592",
      "metadata": {
        "colab": {
          "base_uri": "https://localhost:8080/"
        },
        "id": "5fcbd592",
        "outputId": "9e19288b-cc10-444d-f219-7b5378ea5814"
      },
      "outputs": [
        {
          "output_type": "stream",
          "name": "stdout",
          "text": [
            "tensor([[2.],\n",
            "        [4.],\n",
            "        [6.]])\n",
            "torch.Size([3, 1])\n"
          ]
        }
      ],
      "source": [
        "print(y_train)\n",
        "print(y_train.shape)"
      ]
    },
    {
      "cell_type": "markdown",
      "id": "edcd7f92",
      "metadata": {
        "id": "edcd7f92"
      },
      "source": [
        "3. 가중치와 편향의 초기화"
      ]
    },
    {
      "cell_type": "code",
      "execution_count": null,
      "id": "70b8841e",
      "metadata": {
        "id": "70b8841e"
      },
      "outputs": [],
      "source": [
        "W = torch.zeros(1, requires_grad=True)\n",
        "#가중치 w를 0으로 초기화하고 학습을 통해 값이 변경되는 변수임을 명시함"
      ]
    },
    {
      "cell_type": "code",
      "execution_count": null,
      "id": "e487515d",
      "metadata": {
        "colab": {
          "base_uri": "https://localhost:8080/"
        },
        "id": "e487515d",
        "outputId": "bbccf3be-1d28-42fc-b14a-e57f85a5ff33"
      },
      "outputs": [
        {
          "output_type": "stream",
          "name": "stdout",
          "text": [
            "tensor([0.], requires_grad=True)\n"
          ]
        }
      ],
      "source": [
        "print(W)"
      ]
    },
    {
      "cell_type": "code",
      "execution_count": null,
      "id": "943523d1",
      "metadata": {
        "id": "943523d1"
      },
      "outputs": [],
      "source": [
        "b = torch.zeros(1, requires_grad=True)\n",
        "#편향 b 도 초기화하고 명시"
      ]
    },
    {
      "cell_type": "code",
      "execution_count": null,
      "id": "c50a1b3a",
      "metadata": {
        "colab": {
          "base_uri": "https://localhost:8080/"
        },
        "id": "c50a1b3a",
        "outputId": "6a4d36e4-9472-48f9-c556-4d044809fda2"
      },
      "outputs": [
        {
          "output_type": "stream",
          "name": "stdout",
          "text": [
            "tensor([0.], requires_grad=True)\n"
          ]
        }
      ],
      "source": [
        "print(b)"
      ]
    },
    {
      "cell_type": "markdown",
      "id": "2428e983",
      "metadata": {
        "id": "2428e983"
      },
      "source": [
        "4. 가설 세우기"
      ]
    },
    {
      "cell_type": "code",
      "execution_count": null,
      "id": "831983ec",
      "metadata": {
        "id": "831983ec"
      },
      "outputs": [],
      "source": [
        "hypothesis = x_train * W + b\n",
        "#H(x) = Wx + b"
      ]
    },
    {
      "cell_type": "code",
      "execution_count": null,
      "id": "5a6aa9d5",
      "metadata": {
        "colab": {
          "base_uri": "https://localhost:8080/"
        },
        "id": "5a6aa9d5",
        "outputId": "b2ea17e6-9f77-4af0-85f5-16b1808e1f69"
      },
      "outputs": [
        {
          "output_type": "stream",
          "name": "stdout",
          "text": [
            "tensor([[0.],\n",
            "        [0.],\n",
            "        [0.]], grad_fn=<AddBackward0>)\n"
          ]
        }
      ],
      "source": [
        "print(hypothesis)"
      ]
    },
    {
      "cell_type": "markdown",
      "id": "9df81b3b",
      "metadata": {
        "id": "9df81b3b"
      },
      "source": [
        "5. 비용 함수 선언하기\n",
        "- 파이토치 코드 상으로 선형 회귀의 비용 함수에 해당되는 평균 제곱 오차를 선언한다"
      ]
    },
    {
      "cell_type": "code",
      "execution_count": null,
      "id": "6da3a430",
      "metadata": {
        "id": "6da3a430"
      },
      "outputs": [],
      "source": [
        "cost = torch.mean((hypothesis - y_train) ** 2)"
      ]
    },
    {
      "cell_type": "code",
      "execution_count": null,
      "id": "34dd43d9",
      "metadata": {
        "colab": {
          "base_uri": "https://localhost:8080/"
        },
        "id": "34dd43d9",
        "outputId": "41c41d0f-58af-427e-a379-3dcf2234f8de"
      },
      "outputs": [
        {
          "output_type": "stream",
          "name": "stdout",
          "text": [
            "tensor(18.6667, grad_fn=<MeanBackward0>)\n"
          ]
        }
      ],
      "source": [
        "print(cost)"
      ]
    },
    {
      "cell_type": "markdown",
      "id": "3915dacc",
      "metadata": {
        "id": "3915dacc"
      },
      "source": [
        "6. 경사 하강법 구현하기"
      ]
    },
    {
      "cell_type": "code",
      "execution_count": null,
      "id": "0b1d8851",
      "metadata": {
        "id": "0b1d8851"
      },
      "outputs": [],
      "source": [
        "optimizer = optim.SGD([W, b], lr=0.01)"
      ]
    },
    {
      "cell_type": "code",
      "execution_count": null,
      "id": "0a443431",
      "metadata": {
        "id": "0a443431"
      },
      "outputs": [],
      "source": [
        "optimizer.zero_grad()"
      ]
    },
    {
      "cell_type": "code",
      "execution_count": null,
      "id": "ee60ad2d",
      "metadata": {
        "id": "ee60ad2d"
      },
      "outputs": [],
      "source": [
        "cost.backward()"
      ]
    },
    {
      "cell_type": "code",
      "execution_count": null,
      "id": "2f87ca47",
      "metadata": {
        "id": "2f87ca47"
      },
      "outputs": [],
      "source": [
        "optimizer.step()"
      ]
    },
    {
      "cell_type": "markdown",
      "id": "9bdf8c2b",
      "metadata": {
        "id": "9bdf8c2b"
      },
      "source": [
        "7.전체 코드"
      ]
    },
    {
      "cell_type": "code",
      "execution_count": null,
      "id": "c9ff5574",
      "metadata": {
        "colab": {
          "base_uri": "https://localhost:8080/"
        },
        "id": "c9ff5574",
        "outputId": "4ea5d862-6214-4318-a926-26e305af59dd"
      },
      "outputs": [
        {
          "output_type": "stream",
          "name": "stdout",
          "text": [
            "Epoch    0/1999 W: 0.187, b: 0.080 Cost: 18.666666\n",
            "Epoch  100/1999 W: 1.746, b: 0.578 Cost: 0.048171\n",
            "Epoch  200/1999 W: 1.800, b: 0.454 Cost: 0.029767\n",
            "Epoch  300/1999 W: 1.843, b: 0.357 Cost: 0.018394\n",
            "Epoch  400/1999 W: 1.876, b: 0.281 Cost: 0.011366\n",
            "Epoch  500/1999 W: 1.903, b: 0.221 Cost: 0.007024\n",
            "Epoch  600/1999 W: 1.924, b: 0.174 Cost: 0.004340\n",
            "Epoch  700/1999 W: 1.940, b: 0.136 Cost: 0.002682\n",
            "Epoch  800/1999 W: 1.953, b: 0.107 Cost: 0.001657\n",
            "Epoch  900/1999 W: 1.963, b: 0.084 Cost: 0.001024\n",
            "Epoch 1000/1999 W: 1.971, b: 0.066 Cost: 0.000633\n",
            "Epoch 1100/1999 W: 1.977, b: 0.052 Cost: 0.000391\n",
            "Epoch 1200/1999 W: 1.982, b: 0.041 Cost: 0.000242\n",
            "Epoch 1300/1999 W: 1.986, b: 0.032 Cost: 0.000149\n",
            "Epoch 1400/1999 W: 1.989, b: 0.025 Cost: 0.000092\n",
            "Epoch 1500/1999 W: 1.991, b: 0.020 Cost: 0.000057\n",
            "Epoch 1600/1999 W: 1.993, b: 0.016 Cost: 0.000035\n",
            "Epoch 1700/1999 W: 1.995, b: 0.012 Cost: 0.000022\n",
            "Epoch 1800/1999 W: 1.996, b: 0.010 Cost: 0.000013\n",
            "Epoch 1900/1999 W: 1.997, b: 0.008 Cost: 0.000008\n"
          ]
        }
      ],
      "source": [
        "x_train = torch.FloatTensor([[1], [2], [3]])\n",
        "y_train = torch.FloatTensor([[2], [4], [6]])\n",
        "\n",
        "W = torch.zeros(1, requires_grad=True)\n",
        "b = torch.zeros(1, requires_grad=True)\n",
        "\n",
        "optimizer = optim.SGD([W, b], lr=0.01)\n",
        "\n",
        "nb_epochs = 1999\n",
        "\n",
        "for epoch in range(nb_epochs + 1):\n",
        "    \n",
        "    hypothesis = x_train * W + b\n",
        "    cost = torch.mean((hypothesis - y_train) ** 2)\n",
        "    \n",
        "    optimizer.zero_grad()\n",
        "    cost.backward()\n",
        "    optimizer.step()\n",
        "    \n",
        "    if epoch % 100 == 0:\n",
        "        print('Epoch {:4d}/{} W: {:.3f}, b: {:.3f} Cost: {:.6f}'\n",
        "              .format(epoch, nb_epochs, W.item(), b.item(), cost.item()))"
      ]
    },
    {
      "cell_type": "markdown",
      "id": "35fd4752",
      "metadata": {
        "id": "35fd4752"
      },
      "source": [
        "5. optimizer.zero_grad()가 필요한 이유"
      ]
    },
    {
      "cell_type": "code",
      "execution_count": null,
      "id": "49fed739",
      "metadata": {
        "colab": {
          "base_uri": "https://localhost:8080/"
        },
        "id": "49fed739",
        "outputId": "1a3ba90e-641d-4b21-8bd5-01d48f7bd1cc"
      },
      "outputs": [
        {
          "output_type": "stream",
          "name": "stdout",
          "text": [
            "수식을 w로 미분한 값 : 2.0\n",
            "수식을 w로 미분한 값 : 4.0\n",
            "수식을 w로 미분한 값 : 6.0\n",
            "수식을 w로 미분한 값 : 8.0\n",
            "수식을 w로 미분한 값 : 10.0\n",
            "수식을 w로 미분한 값 : 12.0\n",
            "수식을 w로 미분한 값 : 14.0\n",
            "수식을 w로 미분한 값 : 16.0\n",
            "수식을 w로 미분한 값 : 18.0\n",
            "수식을 w로 미분한 값 : 20.0\n",
            "수식을 w로 미분한 값 : 22.0\n",
            "수식을 w로 미분한 값 : 24.0\n",
            "수식을 w로 미분한 값 : 26.0\n",
            "수식을 w로 미분한 값 : 28.0\n",
            "수식을 w로 미분한 값 : 30.0\n",
            "수식을 w로 미분한 값 : 32.0\n",
            "수식을 w로 미분한 값 : 34.0\n",
            "수식을 w로 미분한 값 : 36.0\n",
            "수식을 w로 미분한 값 : 38.0\n",
            "수식을 w로 미분한 값 : 40.0\n",
            "수식을 w로 미분한 값 : 42.0\n"
          ]
        }
      ],
      "source": [
        "import torch\n",
        "w = torch.tensor(2.0, requires_grad=True)\n",
        "\n",
        "nb_epochs = 20\n",
        "for epoch in range(nb_epochs + 1):\n",
        "    \n",
        "    z = 2*w\n",
        "    \n",
        "    z.backward()\n",
        "    print('수식을 w로 미분한 값 : {}'.format(w.grad))\n",
        "\n",
        "    #파이토치는 미분을 통해 얻은 기울기를 이전에 계산된 기울기 값에 누적시키는 특징이 있다.\n",
        "    #그렇기 때문에 optimizer.zero_grad()를 통해 미분값을 계속 0으로 초기화시켜줘야한다."
      ]
    },
    {
      "cell_type": "markdown",
      "id": "01f8c34c",
      "metadata": {
        "id": "01f8c34c"
      },
      "source": [
        "6. torch.manual_seed()를 하는 이유"
      ]
    },
    {
      "cell_type": "code",
      "execution_count": null,
      "id": "be9dd14e",
      "metadata": {
        "id": "be9dd14e"
      },
      "outputs": [],
      "source": [
        "import torch"
      ]
    },
    {
      "cell_type": "code",
      "execution_count": null,
      "id": "dcd23756",
      "metadata": {
        "colab": {
          "base_uri": "https://localhost:8080/"
        },
        "id": "dcd23756",
        "outputId": "0933b36f-d713-403d-90ce-1ec871ebe47d"
      },
      "outputs": [
        {
          "output_type": "stream",
          "name": "stdout",
          "text": [
            "랜덤 시드가 3일 때\n",
            "tensor([0.0043])\n",
            "tensor([0.1056])\n"
          ]
        }
      ],
      "source": [
        "torch.manual_seed(3)\n",
        "print('랜덤 시드가 3일 때')\n",
        "for i in range(1, 3):\n",
        "    print(torch.rand(1))"
      ]
    },
    {
      "cell_type": "code",
      "execution_count": null,
      "id": "3c990ee5",
      "metadata": {
        "colab": {
          "base_uri": "https://localhost:8080/"
        },
        "id": "3c990ee5",
        "outputId": "d3ea5b4b-0486-4c35-8985-6fddaa6eee6c"
      },
      "outputs": [
        {
          "output_type": "stream",
          "name": "stdout",
          "text": [
            "랜덤 시드가 5일 때\n",
            "tensor([0.8303])\n",
            "tensor([0.1261])\n"
          ]
        }
      ],
      "source": [
        "torch.manual_seed(5)\n",
        "print('랜덤 시드가 5일 때')\n",
        "for i in range(1, 3):\n",
        "    print(torch.rand(1))"
      ]
    },
    {
      "cell_type": "code",
      "execution_count": null,
      "id": "d1f66ade",
      "metadata": {
        "colab": {
          "base_uri": "https://localhost:8080/"
        },
        "id": "d1f66ade",
        "outputId": "bdd259ff-1e0f-4d89-982e-40bcdd15791c"
      },
      "outputs": [
        {
          "output_type": "stream",
          "name": "stdout",
          "text": [
            "랜덤 시드가 3일 때\n",
            "tensor([0.0043])\n",
            "tensor([0.1056])\n"
          ]
        }
      ],
      "source": [
        "torch.manual_seed(3)\n",
        "print('랜덤 시드가 3일 때')\n",
        "for i in range(1, 3):\n",
        "    print(torch.rand(1))"
      ]
    },
    {
      "cell_type": "markdown",
      "id": "c715766b",
      "metadata": {
        "id": "c715766b"
      },
      "source": [
        "03-02 자동 미분(Autograd)"
      ]
    },
    {
      "cell_type": "markdown",
      "id": "17de7e11",
      "metadata": {
        "id": "17de7e11"
      },
      "source": [
        "2. 자동 미분(Autograd) 실습하기"
      ]
    },
    {
      "cell_type": "code",
      "execution_count": null,
      "id": "35e93a5d",
      "metadata": {
        "id": "35e93a5d"
      },
      "outputs": [],
      "source": [
        "import torch"
      ]
    },
    {
      "cell_type": "code",
      "execution_count": null,
      "id": "014ed052",
      "metadata": {
        "id": "014ed052"
      },
      "outputs": [],
      "source": [
        "w = torch.tensor(2.0, requires_grad=True)"
      ]
    },
    {
      "cell_type": "code",
      "execution_count": null,
      "id": "e195492f",
      "metadata": {
        "id": "e195492f"
      },
      "outputs": [],
      "source": [
        "y = w ** 2\n",
        "z = 2 * y + 5"
      ]
    },
    {
      "cell_type": "code",
      "execution_count": null,
      "id": "e98da74f",
      "metadata": {
        "id": "e98da74f"
      },
      "outputs": [],
      "source": [
        "z.backward()\n",
        "#.backward()를 호출하면 해당 수식의 w에 대한 기울기를 계산한다."
      ]
    },
    {
      "cell_type": "code",
      "execution_count": null,
      "id": "47a46c28",
      "metadata": {
        "colab": {
          "base_uri": "https://localhost:8080/"
        },
        "id": "47a46c28",
        "outputId": "043f7608-eac2-4ea2-e297-c6b6279d00a1"
      },
      "outputs": [
        {
          "output_type": "stream",
          "name": "stdout",
          "text": [
            "수식을 w로 미분한 값 : 8.0\n"
          ]
        }
      ],
      "source": [
        "print('수식을 w로 미분한 값 : {}'.format(w.grad))"
      ]
    },
    {
      "cell_type": "markdown",
      "id": "72d455ea",
      "metadata": {
        "id": "72d455ea"
      },
      "source": [
        "03-03 다중 선형 회귀(Multivariable Linear regression)"
      ]
    },
    {
      "cell_type": "markdown",
      "id": "2731f8f7",
      "metadata": {
        "id": "2731f8f7"
      },
      "source": [
        "2. 파이토치로 구현하기"
      ]
    },
    {
      "cell_type": "code",
      "execution_count": null,
      "id": "4d001e48",
      "metadata": {
        "id": "4d001e48"
      },
      "outputs": [],
      "source": [
        "import torch\n",
        "import torch.nn as nn\n",
        "import torch.nn.functional as F\n",
        "import torch.optim as optim"
      ]
    },
    {
      "cell_type": "code",
      "execution_count": null,
      "id": "9112f5a1",
      "metadata": {
        "colab": {
          "base_uri": "https://localhost:8080/"
        },
        "id": "9112f5a1",
        "outputId": "f7869ab4-3a21-47ac-d01f-f20b983b1176"
      },
      "outputs": [
        {
          "output_type": "execute_result",
          "data": {
            "text/plain": [
              "<torch._C.Generator at 0x7fb98c90a0f0>"
            ]
          },
          "metadata": {},
          "execution_count": 121
        }
      ],
      "source": [
        "torch.manual_seed(1)"
      ]
    },
    {
      "cell_type": "code",
      "execution_count": null,
      "id": "ae606d7e",
      "metadata": {
        "id": "ae606d7e"
      },
      "outputs": [],
      "source": [
        "x1_train = torch.FloatTensor([[73], [93], [89], [96], [73]])\n",
        "x2_train = torch.FloatTensor([[80], [88], [91], [98], [66]])\n",
        "x3_train = torch.FloatTensor([[75], [93], [90], [100], [70]])\n",
        "y_train = torch.FloatTensor([[152], [185], [180], [196], [142]])\n",
        "#x가 3개인 식 훈련해보기"
      ]
    },
    {
      "cell_type": "code",
      "execution_count": null,
      "id": "b384c40b",
      "metadata": {
        "id": "b384c40b"
      },
      "outputs": [],
      "source": [
        "w1 = torch.zeros(1, requires_grad=True)\n",
        "w2 = torch.zeros(1, requires_grad=True)\n",
        "w3 = torch.zeros(1, requires_grad=True)\n",
        "b = torch.zeros(1, requires_grad=True)"
      ]
    },
    {
      "cell_type": "code",
      "execution_count": null,
      "id": "7c0719f7",
      "metadata": {
        "colab": {
          "base_uri": "https://localhost:8080/"
        },
        "id": "7c0719f7",
        "outputId": "b314c6b5-5e15-48c0-d711-c995c3a571a0"
      },
      "outputs": [
        {
          "output_type": "stream",
          "name": "stdout",
          "text": [
            "Epoch    0/1000 w1: 0.294 w2: 0.294 w3: 0.297 b: 0.003 Cost: 29661.800781\n",
            "Epoch  100/1000 w1: 0.674 w2: 0.661 w3: 0.676 b: 0.008 Cost: 1.563628\n",
            "Epoch  200/1000 w1: 0.679 w2: 0.655 w3: 0.677 b: 0.008 Cost: 1.497595\n",
            "Epoch  300/1000 w1: 0.684 w2: 0.649 w3: 0.677 b: 0.008 Cost: 1.435044\n",
            "Epoch  400/1000 w1: 0.689 w2: 0.643 w3: 0.678 b: 0.008 Cost: 1.375726\n",
            "Epoch  500/1000 w1: 0.694 w2: 0.638 w3: 0.678 b: 0.009 Cost: 1.319507\n",
            "Epoch  600/1000 w1: 0.699 w2: 0.633 w3: 0.679 b: 0.009 Cost: 1.266222\n",
            "Epoch  700/1000 w1: 0.704 w2: 0.627 w3: 0.679 b: 0.009 Cost: 1.215703\n",
            "Epoch  800/1000 w1: 0.709 w2: 0.622 w3: 0.679 b: 0.009 Cost: 1.167810\n",
            "Epoch  900/1000 w1: 0.713 w2: 0.617 w3: 0.680 b: 0.009 Cost: 1.122429\n",
            "Epoch 1000/1000 w1: 0.718 w2: 0.613 w3: 0.680 b: 0.009 Cost: 1.079390\n"
          ]
        }
      ],
      "source": [
        "optimizer = optim.SGD([w1, w2, w3, b], lr=1e-5)\n",
        "\n",
        "nb_epochs = 1000\n",
        "for epoch in range(nb_epochs + 1):\n",
        "    \n",
        "    hypothesis = x1_train * w1 + x2_train * w2 + x3_train * w3 + b\n",
        "    \n",
        "    cost = torch.mean((hypothesis - y_train)**2)\n",
        "    \n",
        "    optimizer.zero_grad()\n",
        "    cost.backward()\n",
        "    optimizer.step()\n",
        "    \n",
        "    if epoch % 100 == 0:\n",
        "        print('Epoch {:4d}/{} w1: {:.3f} w2: {:.3f} w3: {:.3f} b: {:.3f} Cost: {:.6f}'.format(epoch, nb_epochs, w1.item(), w2.item(), w3.item(), b.item(), cost.item()\n",
        "        ))"
      ]
    },
    {
      "cell_type": "markdown",
      "id": "f08617a8",
      "metadata": {
        "id": "f08617a8"
      },
      "source": [
        "3. 벡터와 행렬 연산으로 바꾸기"
      ]
    },
    {
      "cell_type": "markdown",
      "id": "4e2b4f2e",
      "metadata": {
        "id": "4e2b4f2e"
      },
      "source": [
        "4. 행렬 연산을 고려하여 파이토치로 구현하기"
      ]
    },
    {
      "cell_type": "code",
      "execution_count": null,
      "id": "a2f0ec36",
      "metadata": {
        "id": "a2f0ec36"
      },
      "outputs": [],
      "source": [
        "x_train = torch.FloatTensor([[73, 80, 75],\n",
        "                             [93, 88, 93],\n",
        "                             [89, 91, 80],\n",
        "                             [96, 98, 100],\n",
        "                             [73, 66, 70]])\n",
        "y_train = torch.FloatTensor([[152], [185], [180], [196], [142]])"
      ]
    },
    {
      "cell_type": "code",
      "execution_count": null,
      "id": "8ecef516",
      "metadata": {
        "colab": {
          "base_uri": "https://localhost:8080/"
        },
        "id": "8ecef516",
        "outputId": "6ab66c92-7cce-4edd-a76d-c6a7fb33f504"
      },
      "outputs": [
        {
          "output_type": "stream",
          "name": "stdout",
          "text": [
            "torch.Size([5, 3])\n",
            "torch.Size([5, 1])\n"
          ]
        }
      ],
      "source": [
        "print(x_train.shape)\n",
        "print(y_train.shape)"
      ]
    },
    {
      "cell_type": "code",
      "execution_count": null,
      "id": "1035fd33",
      "metadata": {
        "id": "1035fd33"
      },
      "outputs": [],
      "source": [
        "W = torch.zeros((3, 1), requires_grad=True)\n",
        "b = torch.zeros(1, requires_grad=True)"
      ]
    },
    {
      "cell_type": "code",
      "execution_count": null,
      "id": "967973a2",
      "metadata": {
        "id": "967973a2"
      },
      "outputs": [],
      "source": [
        "hypothesis = x_train.matmul(W) + b"
      ]
    },
    {
      "cell_type": "code",
      "execution_count": null,
      "id": "319a60c6",
      "metadata": {
        "colab": {
          "base_uri": "https://localhost:8080/"
        },
        "id": "319a60c6",
        "outputId": "c3357d98-f62e-4e3f-dee0-31624497e986"
      },
      "outputs": [
        {
          "output_type": "stream",
          "name": "stdout",
          "text": [
            "Epoch    0/20 hypothesis: tensor([0., 0., 0., 0., 0.]) Cost: 29661.800781\n",
            "Epoch    1/20 hypothesis: tensor([66.7178, 80.1701, 76.1025, 86.0194, 61.1565]) Cost: 9537.694336\n",
            "Epoch    2/20 hypothesis: tensor([104.5421, 125.6208, 119.2478, 134.7862,  95.8280]) Cost: 3069.590088\n",
            "Epoch    3/20 hypothesis: tensor([125.9858, 151.3882, 143.7087, 162.4333, 115.4844]) Cost: 990.670288\n",
            "Epoch    4/20 hypothesis: tensor([138.1429, 165.9963, 157.5768, 178.1071, 126.6283]) Cost: 322.481873\n",
            "Epoch    5/20 hypothesis: tensor([145.0350, 174.2780, 165.4395, 186.9928, 132.9461]) Cost: 107.717064\n",
            "Epoch    6/20 hypothesis: tensor([148.9423, 178.9730, 169.8976, 192.0301, 136.5279]) Cost: 38.687496\n",
            "Epoch    7/20 hypothesis: tensor([151.1574, 181.6346, 172.4254, 194.8856, 138.5585]) Cost: 16.499043\n",
            "Epoch    8/20 hypothesis: tensor([152.4131, 183.1435, 173.8590, 196.5043, 139.7097]) Cost: 9.365656\n",
            "Epoch    9/20 hypothesis: tensor([153.1250, 183.9988, 174.6723, 197.4217, 140.3625]) Cost: 7.071114\n",
            "Epoch   10/20 hypothesis: tensor([153.5285, 184.4835, 175.1338, 197.9415, 140.7325]) Cost: 6.331847\n",
            "Epoch   11/20 hypothesis: tensor([153.7572, 184.7582, 175.3958, 198.2360, 140.9424]) Cost: 6.092532\n",
            "Epoch   12/20 hypothesis: tensor([153.8868, 184.9138, 175.5449, 198.4026, 141.0613]) Cost: 6.013817\n",
            "Epoch   13/20 hypothesis: tensor([153.9602, 185.0019, 175.6299, 198.4969, 141.1288]) Cost: 5.986785\n",
            "Epoch   14/20 hypothesis: tensor([154.0017, 185.0517, 175.6785, 198.5500, 141.1671]) Cost: 5.976325\n",
            "Epoch   15/20 hypothesis: tensor([154.0252, 185.0798, 175.7065, 198.5800, 141.1888]) Cost: 5.971208\n",
            "Epoch   16/20 hypothesis: tensor([154.0385, 185.0956, 175.7229, 198.5966, 141.2012]) Cost: 5.967835\n",
            "Epoch   17/20 hypothesis: tensor([154.0459, 185.1045, 175.7326, 198.6059, 141.2082]) Cost: 5.964969\n",
            "Epoch   18/20 hypothesis: tensor([154.0501, 185.1094, 175.7386, 198.6108, 141.2122]) Cost: 5.962291\n",
            "Epoch   19/20 hypothesis: tensor([154.0524, 185.1120, 175.7424, 198.6134, 141.2145]) Cost: 5.959664\n",
            "Epoch   20/20 hypothesis: tensor([154.0536, 185.1134, 175.7451, 198.6145, 141.2158]) Cost: 5.957089\n"
          ]
        }
      ],
      "source": [
        "x_train = torch.FloatTensor([[73, 80, 75],\n",
        "                             [93, 88, 93],\n",
        "                             [89, 91, 80],\n",
        "                             [96, 98, 100],\n",
        "                             [73, 66, 70]])\n",
        "y_train = torch.FloatTensor([[152], [185], [180], [196], [142]])\n",
        "\n",
        "W = torch.zeros((3, 1), requires_grad=True)\n",
        "b = torch.zeros(1, requires_grad=True)\n",
        "\n",
        "optimizer = optim.SGD([W, b], lr=1e-5)\n",
        "\n",
        "nb_epochs = 20\n",
        "\n",
        "for epoch in range(nb_epochs + 1):\n",
        "    \n",
        "    hypothesis = x_train.matmul(W) + b\n",
        "    \n",
        "    cost = torch.mean((hypothesis - y_train) ** 2)\n",
        "    \n",
        "    optimizer.zero_grad()\n",
        "    cost.backward()\n",
        "    optimizer.step()\n",
        "    \n",
        "    print('Epoch {:4d}/{} hypothesis: {} Cost: {:.6f}'.format(epoch, nb_epochs, hypothesis.squeeze().detach(), cost.item()))\n",
        "    "
      ]
    },
    {
      "cell_type": "code",
      "execution_count": null,
      "id": "c6b7a517",
      "metadata": {
        "id": "c6b7a517"
      },
      "outputs": [],
      "source": []
    }
  ],
  "metadata": {
    "kernelspec": {
      "display_name": "Python 3 (ipykernel)",
      "language": "python",
      "name": "python3"
    },
    "language_info": {
      "codemirror_mode": {
        "name": "ipython",
        "version": 3
      },
      "file_extension": ".py",
      "mimetype": "text/x-python",
      "name": "python",
      "nbconvert_exporter": "python",
      "pygments_lexer": "ipython3",
      "version": "3.7.15"
    },
    "colab": {
      "provenance": [],
      "collapsed_sections": [
        "7a414221"
      ],
      "include_colab_link": true
    }
  },
  "nbformat": 4,
  "nbformat_minor": 5
}